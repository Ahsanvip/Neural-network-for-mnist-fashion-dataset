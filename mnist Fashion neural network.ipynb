{
 "cells": [
  {
   "cell_type": "code",
   "execution_count": 1,
   "id": "81c6d8b6-8075-41a0-ac19-feb04097014a",
   "metadata": {},
   "outputs": [
    {
     "name": "stdout",
     "output_type": "stream",
     "text": [
      "Downloading data from https://storage.googleapis.com/tensorflow/tf-keras-datasets/mnist.npz\n",
      "11490434/11490434 [==============================] - 7s 1us/step\n",
      "Epoch 1/10\n",
      "1500/1500 [==============================] - 9s 5ms/step - loss: 0.2903 - accuracy: 0.9153 - val_loss: 0.1460 - val_accuracy: 0.9565\n",
      "Epoch 2/10\n",
      "1500/1500 [==============================] - 8s 5ms/step - loss: 0.1215 - accuracy: 0.9636 - val_loss: 0.1079 - val_accuracy: 0.9682\n",
      "Epoch 3/10\n",
      "1500/1500 [==============================] - 9s 6ms/step - loss: 0.0842 - accuracy: 0.9741 - val_loss: 0.0966 - val_accuracy: 0.9737\n",
      "Epoch 4/10\n",
      "1500/1500 [==============================] - 9s 6ms/step - loss: 0.0632 - accuracy: 0.9804 - val_loss: 0.1008 - val_accuracy: 0.9707\n",
      "Epoch 5/10\n",
      "1500/1500 [==============================] - 8s 6ms/step - loss: 0.0516 - accuracy: 0.9830 - val_loss: 0.0922 - val_accuracy: 0.9739\n",
      "Epoch 6/10\n",
      "1500/1500 [==============================] - 9s 6ms/step - loss: 0.0402 - accuracy: 0.9870 - val_loss: 0.0950 - val_accuracy: 0.9731\n",
      "Epoch 7/10\n",
      "1500/1500 [==============================] - 8s 6ms/step - loss: 0.0338 - accuracy: 0.9891 - val_loss: 0.1056 - val_accuracy: 0.9722\n",
      "Epoch 8/10\n",
      "1500/1500 [==============================] - 9s 6ms/step - loss: 0.0288 - accuracy: 0.9905 - val_loss: 0.0977 - val_accuracy: 0.9738\n",
      "Epoch 9/10\n",
      "1500/1500 [==============================] - 8s 5ms/step - loss: 0.0222 - accuracy: 0.9926 - val_loss: 0.1150 - val_accuracy: 0.9743\n",
      "Epoch 10/10\n",
      "1500/1500 [==============================] - 8s 5ms/step - loss: 0.0219 - accuracy: 0.9929 - val_loss: 0.1070 - val_accuracy: 0.9754\n",
      "313/313 [==============================] - 2s 4ms/step - loss: 0.1033 - accuracy: 0.9765\n",
      "Test Accuracy: 0.98\n"
     ]
    }
   ],
   "source": [
    "import numpy as np\n",
    "import pandas as pd\n",
    "import matplotlib.pyplot as plt\n",
    "from tensorflow import keras\n",
    "from tensorflow.keras import datasets\n",
    "\n",
    "# Load and preprocess data (example: MNIST dataset)\n",
    "(x_train, y_train), (x_test, y_test) = datasets.mnist.load_data()\n",
    "x_train, x_test = x_train / 255.0, x_test / 255.0\n",
    "\n",
    "# Build the model\n",
    "model = keras.Sequential([\n",
    "    keras.layers.Flatten(input_shape=(28, 28)),\n",
    "    keras.layers.Dense(100, activation='relu'),\n",
    "    keras.layers.Dense(50, activation='relu'),\n",
    "    keras.layers.Dense(10, activation='softmax')\n",
    "])\n",
    "\n",
    "# Compile the model\n",
    "model.compile(\n",
    "    loss=\"sparse_categorical_crossentropy\",\n",
    "    optimizer='adam',\n",
    "    metrics=['accuracy']\n",
    ")\n",
    "\n",
    "# Train the model\n",
    "history = model.fit(x_train, y_train, epochs=10, validation_split=0.2)\n",
    "\n",
    "# Evaluate the model\n",
    "test_loss, test_accuracy = model.evaluate(x_test, y_test)\n",
    "print(f\"Test Accuracy: {test_accuracy:.2f}\")\n"
   ]
  },
  {
   "cell_type": "code",
   "execution_count": null,
   "id": "2597c789-32aa-4a68-a454-9f3f85ed1a8a",
   "metadata": {},
   "outputs": [],
   "source": []
  }
 ],
 "metadata": {
  "kernelspec": {
   "display_name": "Python 3 (ipykernel)",
   "language": "python",
   "name": "python3"
  },
  "language_info": {
   "codemirror_mode": {
    "name": "ipython",
    "version": 3
   },
   "file_extension": ".py",
   "mimetype": "text/x-python",
   "name": "python",
   "nbconvert_exporter": "python",
   "pygments_lexer": "ipython3",
   "version": "3.10.13"
  }
 },
 "nbformat": 4,
 "nbformat_minor": 5
}
